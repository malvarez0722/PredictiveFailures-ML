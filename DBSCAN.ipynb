{
 "cells": [
  {
   "cell_type": "markdown",
   "metadata": {
    "id": "Xhy3S5vLMWZt"
   },
   "source": [
    "\n",
    "# Rod Pump 4: Minimum Viable Product\n",
    "\n",
    "Problem Statement\n",
    "\n",
    "> What production and mechanical parameters are the leading predictors for rod pump failure/downtime? What is best design?\n",
    "\n",
    "The Challenges\n",
    "\n",
    "\n",
    ">Distinguishing the type of parameters that cause failure and downtime\n",
    "*   Which are the most prominent?  \n",
    "*   Can we successfully group them, and which will be the biggest threat?\n",
    "\n",
    ">Analyze the data to understand what when failures and downtime will occur\n",
    "*   Can we predict when failures/downtime will occur?\n",
    "*   Will it be evident using all the data or do we have to reduce it first?\n",
    "\n",
    "Main Issues\n",
    "\n",
    "\n",
    "> \n",
    "\n",
    "*   Cleaning up the data i.e. figuring out what was more necessary  \n",
    "*   Importing our data into our models\n",
    "\n",
    "\n"
   ]
  },
  {
   "cell_type": "markdown",
   "metadata": {
    "id": "lIx9mbDKI9YP"
   },
   "source": [
    "# New Section"
   ]
  },
  {
   "cell_type": "markdown",
   "metadata": {
    "id": "yFp097LSRFxe"
   },
   "source": [
    "**Installing and uploading** \n",
    "\n",
    "\n"
   ]
  },
  {
   "cell_type": "code",
   "execution_count": 849,
   "metadata": {
    "colab": {
     "base_uri": "https://localhost:8080/",
     "height": 921
    },
    "id": "028_VoCisHZe",
    "outputId": "12aef29a-bfcf-43bf-e416-a850a1b3c5c3"
   },
   "outputs": [],
   "source": [
    "#Import relevant packages\n",
    "import pandas as pd\n",
    "import numpy as np\n",
    "import matplotlib.pyplot as plt\n",
    "import matplotlib as mpl\n",
    "import sklearn as skl\n",
    "import seaborn as sns\n",
    "import scipy as scp\n",
    "import datetime as dt\n",
    "import time\n",
    "import io"
   ]
  },
  {
   "cell_type": "code",
   "execution_count": null,
   "metadata": {},
   "outputs": [],
   "source": [
    "from jupyter_dash import JupyterDash\n",
    "import dash\n",
    "import dash_core_components as dcc\n",
    "import dash_html_components as html\n",
    "import pandas as pd"
   ]
  },
  {
   "cell_type": "code",
   "execution_count": 850,
   "metadata": {
    "colab": {
     "base_uri": "https://localhost:8080/",
     "height": 72,
     "resources": {
      "http://localhost:8080/nbextensions/google.colab/files.js": {
       "data": "Ly8gQ29weXJpZ2h0IDIwMTcgR29vZ2xlIExMQwovLwovLyBMaWNlbnNlZCB1bmRlciB0aGUgQXBhY2hlIExpY2Vuc2UsIFZlcnNpb24gMi4wICh0aGUgIkxpY2Vuc2UiKTsKLy8geW91IG1heSBub3QgdXNlIHRoaXMgZmlsZSBleGNlcHQgaW4gY29tcGxpYW5jZSB3aXRoIHRoZSBMaWNlbnNlLgovLyBZb3UgbWF5IG9idGFpbiBhIGNvcHkgb2YgdGhlIExpY2Vuc2UgYXQKLy8KLy8gICAgICBodHRwOi8vd3d3LmFwYWNoZS5vcmcvbGljZW5zZXMvTElDRU5TRS0yLjAKLy8KLy8gVW5sZXNzIHJlcXVpcmVkIGJ5IGFwcGxpY2FibGUgbGF3IG9yIGFncmVlZCB0byBpbiB3cml0aW5nLCBzb2Z0d2FyZQovLyBkaXN0cmlidXRlZCB1bmRlciB0aGUgTGljZW5zZSBpcyBkaXN0cmlidXRlZCBvbiBhbiAiQVMgSVMiIEJBU0lTLAovLyBXSVRIT1VUIFdBUlJBTlRJRVMgT1IgQ09ORElUSU9OUyBPRiBBTlkgS0lORCwgZWl0aGVyIGV4cHJlc3Mgb3IgaW1wbGllZC4KLy8gU2VlIHRoZSBMaWNlbnNlIGZvciB0aGUgc3BlY2lmaWMgbGFuZ3VhZ2UgZ292ZXJuaW5nIHBlcm1pc3Npb25zIGFuZAovLyBsaW1pdGF0aW9ucyB1bmRlciB0aGUgTGljZW5zZS4KCi8qKgogKiBAZmlsZW92ZXJ2aWV3IEhlbHBlcnMgZm9yIGdvb2dsZS5jb2xhYiBQeXRob24gbW9kdWxlLgogKi8KKGZ1bmN0aW9uKHNjb3BlKSB7CmZ1bmN0aW9uIHNwYW4odGV4dCwgc3R5bGVBdHRyaWJ1dGVzID0ge30pIHsKICBjb25zdCBlbGVtZW50ID0gZG9jdW1lbnQuY3JlYXRlRWxlbWVudCgnc3BhbicpOwogIGVsZW1lbnQudGV4dENvbnRlbnQgPSB0ZXh0OwogIGZvciAoY29uc3Qga2V5IG9mIE9iamVjdC5rZXlzKHN0eWxlQXR0cmlidXRlcykpIHsKICAgIGVsZW1lbnQuc3R5bGVba2V5XSA9IHN0eWxlQXR0cmlidXRlc1trZXldOwogIH0KICByZXR1cm4gZWxlbWVudDsKfQoKLy8gTWF4IG51bWJlciBvZiBieXRlcyB3aGljaCB3aWxsIGJlIHVwbG9hZGVkIGF0IGEgdGltZS4KY29uc3QgTUFYX1BBWUxPQURfU0laRSA9IDEwMCAqIDEwMjQ7CgpmdW5jdGlvbiBfdXBsb2FkRmlsZXMoaW5wdXRJZCwgb3V0cHV0SWQpIHsKICBjb25zdCBzdGVwcyA9IHVwbG9hZEZpbGVzU3RlcChpbnB1dElkLCBvdXRwdXRJZCk7CiAgY29uc3Qgb3V0cHV0RWxlbWVudCA9IGRvY3VtZW50LmdldEVsZW1lbnRCeUlkKG91dHB1dElkKTsKICAvLyBDYWNoZSBzdGVwcyBvbiB0aGUgb3V0cHV0RWxlbWVudCB0byBtYWtlIGl0IGF2YWlsYWJsZSBmb3IgdGhlIG5leHQgY2FsbAogIC8vIHRvIHVwbG9hZEZpbGVzQ29udGludWUgZnJvbSBQeXRob24uCiAgb3V0cHV0RWxlbWVudC5zdGVwcyA9IHN0ZXBzOwoKICByZXR1cm4gX3VwbG9hZEZpbGVzQ29udGludWUob3V0cHV0SWQpOwp9CgovLyBUaGlzIGlzIHJvdWdobHkgYW4gYXN5bmMgZ2VuZXJhdG9yIChub3Qgc3VwcG9ydGVkIGluIHRoZSBicm93c2VyIHlldCksCi8vIHdoZXJlIHRoZXJlIGFyZSBtdWx0aXBsZSBhc3luY2hyb25vdXMgc3RlcHMgYW5kIHRoZSBQeXRob24gc2lkZSBpcyBnb2luZwovLyB0byBwb2xsIGZvciBjb21wbGV0aW9uIG9mIGVhY2ggc3RlcC4KLy8gVGhpcyB1c2VzIGEgUHJvbWlzZSB0byBibG9jayB0aGUgcHl0aG9uIHNpZGUgb24gY29tcGxldGlvbiBvZiBlYWNoIHN0ZXAsCi8vIHRoZW4gcGFzc2VzIHRoZSByZXN1bHQgb2YgdGhlIHByZXZpb3VzIHN0ZXAgYXMgdGhlIGlucHV0IHRvIHRoZSBuZXh0IHN0ZXAuCmZ1bmN0aW9uIF91cGxvYWRGaWxlc0NvbnRpbnVlKG91dHB1dElkKSB7CiAgY29uc3Qgb3V0cHV0RWxlbWVudCA9IGRvY3VtZW50LmdldEVsZW1lbnRCeUlkKG91dHB1dElkKTsKICBjb25zdCBzdGVwcyA9IG91dHB1dEVsZW1lbnQuc3RlcHM7CgogIGNvbnN0IG5leHQgPSBzdGVwcy5uZXh0KG91dHB1dEVsZW1lbnQubGFzdFByb21pc2VWYWx1ZSk7CiAgcmV0dXJuIFByb21pc2UucmVzb2x2ZShuZXh0LnZhbHVlLnByb21pc2UpLnRoZW4oKHZhbHVlKSA9PiB7CiAgICAvLyBDYWNoZSB0aGUgbGFzdCBwcm9taXNlIHZhbHVlIHRvIG1ha2UgaXQgYXZhaWxhYmxlIHRvIHRoZSBuZXh0CiAgICAvLyBzdGVwIG9mIHRoZSBnZW5lcmF0b3IuCiAgICBvdXRwdXRFbGVtZW50Lmxhc3RQcm9taXNlVmFsdWUgPSB2YWx1ZTsKICAgIHJldHVybiBuZXh0LnZhbHVlLnJlc3BvbnNlOwogIH0pOwp9CgovKioKICogR2VuZXJhdG9yIGZ1bmN0aW9uIHdoaWNoIGlzIGNhbGxlZCBiZXR3ZWVuIGVhY2ggYXN5bmMgc3RlcCBvZiB0aGUgdXBsb2FkCiAqIHByb2Nlc3MuCiAqIEBwYXJhbSB7c3RyaW5nfSBpbnB1dElkIEVsZW1lbnQgSUQgb2YgdGhlIGlucHV0IGZpbGUgcGlja2VyIGVsZW1lbnQuCiAqIEBwYXJhbSB7c3RyaW5nfSBvdXRwdXRJZCBFbGVtZW50IElEIG9mIHRoZSBvdXRwdXQgZGlzcGxheS4KICogQHJldHVybiB7IUl0ZXJhYmxlPCFPYmplY3Q+fSBJdGVyYWJsZSBvZiBuZXh0IHN0ZXBzLgogKi8KZnVuY3Rpb24qIHVwbG9hZEZpbGVzU3RlcChpbnB1dElkLCBvdXRwdXRJZCkgewogIGNvbnN0IGlucHV0RWxlbWVudCA9IGRvY3VtZW50LmdldEVsZW1lbnRCeUlkKGlucHV0SWQpOwogIGlucHV0RWxlbWVudC5kaXNhYmxlZCA9IGZhbHNlOwoKICBjb25zdCBvdXRwdXRFbGVtZW50ID0gZG9jdW1lbnQuZ2V0RWxlbWVudEJ5SWQob3V0cHV0SWQpOwogIG91dHB1dEVsZW1lbnQuaW5uZXJIVE1MID0gJyc7CgogIGNvbnN0IHBpY2tlZFByb21pc2UgPSBuZXcgUHJvbWlzZSgocmVzb2x2ZSkgPT4gewogICAgaW5wdXRFbGVtZW50LmFkZEV2ZW50TGlzdGVuZXIoJ2NoYW5nZScsIChlKSA9PiB7CiAgICAgIHJlc29sdmUoZS50YXJnZXQuZmlsZXMpOwogICAgfSk7CiAgfSk7CgogIGNvbnN0IGNhbmNlbCA9IGRvY3VtZW50LmNyZWF0ZUVsZW1lbnQoJ2J1dHRvbicpOwogIGlucHV0RWxlbWVudC5wYXJlbnRFbGVtZW50LmFwcGVuZENoaWxkKGNhbmNlbCk7CiAgY2FuY2VsLnRleHRDb250ZW50ID0gJ0NhbmNlbCB1cGxvYWQnOwogIGNvbnN0IGNhbmNlbFByb21pc2UgPSBuZXcgUHJvbWlzZSgocmVzb2x2ZSkgPT4gewogICAgY2FuY2VsLm9uY2xpY2sgPSAoKSA9PiB7CiAgICAgIHJlc29sdmUobnVsbCk7CiAgICB9OwogIH0pOwoKICAvLyBXYWl0IGZvciB0aGUgdXNlciB0byBwaWNrIHRoZSBmaWxlcy4KICBjb25zdCBmaWxlcyA9IHlpZWxkIHsKICAgIHByb21pc2U6IFByb21pc2UucmFjZShbcGlja2VkUHJvbWlzZSwgY2FuY2VsUHJvbWlzZV0pLAogICAgcmVzcG9uc2U6IHsKICAgICAgYWN0aW9uOiAnc3RhcnRpbmcnLAogICAgfQogIH07CgogIGNhbmNlbC5yZW1vdmUoKTsKCiAgLy8gRGlzYWJsZSB0aGUgaW5wdXQgZWxlbWVudCBzaW5jZSBmdXJ0aGVyIHBpY2tzIGFyZSBub3QgYWxsb3dlZC4KICBpbnB1dEVsZW1lbnQuZGlzYWJsZWQgPSB0cnVlOwoKICBpZiAoIWZpbGVzKSB7CiAgICByZXR1cm4gewogICAgICByZXNwb25zZTogewogICAgICAgIGFjdGlvbjogJ2NvbXBsZXRlJywKICAgICAgfQogICAgfTsKICB9CgogIGZvciAoY29uc3QgZmlsZSBvZiBmaWxlcykgewogICAgY29uc3QgbGkgPSBkb2N1bWVudC5jcmVhdGVFbGVtZW50KCdsaScpOwogICAgbGkuYXBwZW5kKHNwYW4oZmlsZS5uYW1lLCB7Zm9udFdlaWdodDogJ2JvbGQnfSkpOwogICAgbGkuYXBwZW5kKHNwYW4oCiAgICAgICAgYCgke2ZpbGUudHlwZSB8fCAnbi9hJ30pIC0gJHtmaWxlLnNpemV9IGJ5dGVzLCBgICsKICAgICAgICBgbGFzdCBtb2RpZmllZDogJHsKICAgICAgICAgICAgZmlsZS5sYXN0TW9kaWZpZWREYXRlID8gZmlsZS5sYXN0TW9kaWZpZWREYXRlLnRvTG9jYWxlRGF0ZVN0cmluZygpIDoKICAgICAgICAgICAgICAgICAgICAgICAgICAgICAgICAgICAgJ24vYSd9IC0gYCkpOwogICAgY29uc3QgcGVyY2VudCA9IHNwYW4oJzAlIGRvbmUnKTsKICAgIGxpLmFwcGVuZENoaWxkKHBlcmNlbnQpOwoKICAgIG91dHB1dEVsZW1lbnQuYXBwZW5kQ2hpbGQobGkpOwoKICAgIGNvbnN0IGZpbGVEYXRhUHJvbWlzZSA9IG5ldyBQcm9taXNlKChyZXNvbHZlKSA9PiB7CiAgICAgIGNvbnN0IHJlYWRlciA9IG5ldyBGaWxlUmVhZGVyKCk7CiAgICAgIHJlYWRlci5vbmxvYWQgPSAoZSkgPT4gewogICAgICAgIHJlc29sdmUoZS50YXJnZXQucmVzdWx0KTsKICAgICAgfTsKICAgICAgcmVhZGVyLnJlYWRBc0FycmF5QnVmZmVyKGZpbGUpOwogICAgfSk7CiAgICAvLyBXYWl0IGZvciB0aGUgZGF0YSB0byBiZSByZWFkeS4KICAgIGxldCBmaWxlRGF0YSA9IHlpZWxkIHsKICAgICAgcHJvbWlzZTogZmlsZURhdGFQcm9taXNlLAogICAgICByZXNwb25zZTogewogICAgICAgIGFjdGlvbjogJ2NvbnRpbnVlJywKICAgICAgfQogICAgfTsKCiAgICAvLyBVc2UgYSBjaHVua2VkIHNlbmRpbmcgdG8gYXZvaWQgbWVzc2FnZSBzaXplIGxpbWl0cy4gU2VlIGIvNjIxMTU2NjAuCiAgICBsZXQgcG9zaXRpb24gPSAwOwogICAgd2hpbGUgKHBvc2l0aW9uIDwgZmlsZURhdGEuYnl0ZUxlbmd0aCkgewogICAgICBjb25zdCBsZW5ndGggPSBNYXRoLm1pbihmaWxlRGF0YS5ieXRlTGVuZ3RoIC0gcG9zaXRpb24sIE1BWF9QQVlMT0FEX1NJWkUpOwogICAgICBjb25zdCBjaHVuayA9IG5ldyBVaW50OEFycmF5KGZpbGVEYXRhLCBwb3NpdGlvbiwgbGVuZ3RoKTsKICAgICAgcG9zaXRpb24gKz0gbGVuZ3RoOwoKICAgICAgY29uc3QgYmFzZTY0ID0gYnRvYShTdHJpbmcuZnJvbUNoYXJDb2RlLmFwcGx5KG51bGwsIGNodW5rKSk7CiAgICAgIHlpZWxkIHsKICAgICAgICByZXNwb25zZTogewogICAgICAgICAgYWN0aW9uOiAnYXBwZW5kJywKICAgICAgICAgIGZpbGU6IGZpbGUubmFtZSwKICAgICAgICAgIGRhdGE6IGJhc2U2NCwKICAgICAgICB9LAogICAgICB9OwogICAgICBwZXJjZW50LnRleHRDb250ZW50ID0KICAgICAgICAgIGAke01hdGgucm91bmQoKHBvc2l0aW9uIC8gZmlsZURhdGEuYnl0ZUxlbmd0aCkgKiAxMDApfSUgZG9uZWA7CiAgICB9CiAgfQoKICAvLyBBbGwgZG9uZS4KICB5aWVsZCB7CiAgICByZXNwb25zZTogewogICAgICBhY3Rpb246ICdjb21wbGV0ZScsCiAgICB9CiAgfTsKfQoKc2NvcGUuZ29vZ2xlID0gc2NvcGUuZ29vZ2xlIHx8IHt9OwpzY29wZS5nb29nbGUuY29sYWIgPSBzY29wZS5nb29nbGUuY29sYWIgfHwge307CnNjb3BlLmdvb2dsZS5jb2xhYi5fZmlsZXMgPSB7CiAgX3VwbG9hZEZpbGVzLAogIF91cGxvYWRGaWxlc0NvbnRpbnVlLAp9Owp9KShzZWxmKTsK",
       "headers": [
        [
         "content-type",
         "application/javascript"
        ]
       ],
       "ok": true,
       "status": 200,
       "status_text": ""
      }
     }
    },
    "id": "sTuB7ENCD0Cv",
    "outputId": "3d90dff4-1c1f-47aa-d965-4b2d9e926bbd"
   },
   "outputs": [],
   "source": [
    "df = pd.read_csv('rodpump_failure.csv')"
   ]
  },
  {
   "cell_type": "markdown",
   "metadata": {
    "id": "YyXccESbRYFz"
   },
   "source": [
    "#Data clean up"
   ]
  },
  {
   "cell_type": "code",
   "execution_count": 851,
   "metadata": {
    "colab": {
     "base_uri": "https://localhost:8080/",
     "height": 1000
    },
    "id": "_dFuKNPoj_a6",
    "outputId": "58588c87-7e38-4056-b1c7-eb0c219b1052"
   },
   "outputs": [
    {
     "name": "stdout",
     "output_type": "stream",
     "text": [
      "<class 'pandas.core.frame.DataFrame'>\n",
      "RangeIndex: 2596 entries, 0 to 2595\n",
      "Data columns (total 55 columns):\n",
      " #   Column                     Non-Null Count  Dtype  \n",
      "---  ------                     --------------  -----  \n",
      " 0   roduid                     2596 non-null   object \n",
      " 1   UWI                        2596 non-null   object \n",
      " 2   NODEID                     2596 non-null   object \n",
      " 3   IDWELL                     2596 non-null   object \n",
      " 4   tbguid                     2596 non-null   object \n",
      " 5   lifetime_start             2596 non-null   object \n",
      " 6   lifetime_end               2596 non-null   object \n",
      " 7   IDRECJOBPULL               2596 non-null   object \n",
      " 8   REPORTTO                   1725 non-null   object \n",
      " 9   FAILSTART                  1725 non-null   object \n",
      " 10  FAILURETYPE                1721 non-null   object \n",
      " 11  H2S_CONCENTRATION          2596 non-null   float64\n",
      " 12  PrimarySetpoint            2596 non-null   float64\n",
      " 13  SecondarySetpoint          2596 non-null   float64\n",
      " 14  StrokeLength               2596 non-null   float64\n",
      " 15  GrossStrokeLength          1500 non-null   float64\n",
      " 16  Fillage                    1984 non-null   float64\n",
      " 17  YesterdaysAverageSPM       1825 non-null   float64\n",
      " 18  bha_configuration          2550 non-null   object \n",
      " 19  chemgroup1_any             2596 non-null   int64  \n",
      " 20  chemgroup1_all             2596 non-null   int64  \n",
      " 21  chemgroup2_any             2596 non-null   int64  \n",
      " 22  chemgroup2_all             2596 non-null   int64  \n",
      " 23  chemgroup3_any             2596 non-null   int64  \n",
      " 24  chemgroup3_all             2596 non-null   int64  \n",
      " 25  max_unguided_dls           2547 non-null   float64\n",
      " 26  dls_high_in_hole           2546 non-null   float64\n",
      " 27  gas_anchor_length          2592 non-null   float64\n",
      " 28  MAX_INCLINATION            2547 non-null   float64\n",
      " 29  wellbore_category          2591 non-null   object \n",
      " 30  manual_scale               2596 non-null   object \n",
      " 31  packer_vs_tac              2582 non-null   object \n",
      " 32  AVG_PRESS_FLOWLINE         1661 non-null   float64\n",
      " 33  AVG_PRESSURE_TUBING        2538 non-null   float64\n",
      " 34  AVG_PRESSURE_CASING        2544 non-null   float64\n",
      " 35  AVG_DIFFERENTIAL_PRESSURE  2542 non-null   float64\n",
      " 36  AVG_OIL_VOLUME             2578 non-null   float64\n",
      " 37  AVG_WATER_VOLUME           2578 non-null   float64\n",
      " 38  AVG_LIQUID_VOLUME          2578 non-null   float64\n",
      " 39  AVG_WATERSG                1854 non-null   float64\n",
      " 40  rod_sinker_type            2596 non-null   object \n",
      " 41  rod_has_guides             2596 non-null   bool   \n",
      " 42  rod_make                   2596 non-null   object \n",
      " 43  rod_apigrade               2591 non-null   object \n",
      " 44  ROUTE                      2596 non-null   int64  \n",
      " 45  overall_max_sideload       1718 non-null   float64\n",
      " 46  shallow_max_sideload       1717 non-null   float64\n",
      " 47  max_unguided_sideload      1717 non-null   float64\n",
      " 48  DESANDDEGAS_TYP            2596 non-null   object \n",
      " 49  CHROME_LENGTH              2596 non-null   float64\n",
      " 50  ENDURALLOY_LENGTH          2596 non-null   float64\n",
      " 51  POLY_LENGTH                2596 non-null   float64\n",
      " 52  NIPPLE_SET_DEPTH           2573 non-null   float64\n",
      " 53  pump_bore                  2596 non-null   object \n",
      " 54  gasanchor_od               1488 non-null   object \n",
      "dtypes: bool(1), float64(26), int64(7), object(21)\n",
      "memory usage: 1.1+ MB\n"
     ]
    }
   ],
   "source": [
    "# data types and count\n",
    "df.info()"
   ]
  },
  {
   "cell_type": "code",
   "execution_count": 852,
   "metadata": {
    "colab": {
     "base_uri": "https://localhost:8080/",
     "height": 419
    },
    "id": "bIvD_zVRkEsl",
    "outputId": "8dccce55-a76a-4c1e-9966-44a5374f0e6d"
   },
   "outputs": [
    {
     "data": {
      "text/html": [
       "<div>\n",
       "<style scoped>\n",
       "    .dataframe tbody tr th:only-of-type {\n",
       "        vertical-align: middle;\n",
       "    }\n",
       "\n",
       "    .dataframe tbody tr th {\n",
       "        vertical-align: top;\n",
       "    }\n",
       "\n",
       "    .dataframe thead th {\n",
       "        text-align: right;\n",
       "    }\n",
       "</style>\n",
       "<table border=\"1\" class=\"dataframe\">\n",
       "  <thead>\n",
       "    <tr style=\"text-align: right;\">\n",
       "      <th></th>\n",
       "      <th>roduid</th>\n",
       "      <th>UWI</th>\n",
       "      <th>NODEID</th>\n",
       "      <th>IDWELL</th>\n",
       "      <th>tbguid</th>\n",
       "      <th>lifetime_start</th>\n",
       "      <th>lifetime_end</th>\n",
       "      <th>IDRECJOBPULL</th>\n",
       "      <th>REPORTTO</th>\n",
       "      <th>FAILSTART</th>\n",
       "      <th>...</th>\n",
       "      <th>overall_max_sideload</th>\n",
       "      <th>shallow_max_sideload</th>\n",
       "      <th>max_unguided_sideload</th>\n",
       "      <th>DESANDDEGAS_TYP</th>\n",
       "      <th>CHROME_LENGTH</th>\n",
       "      <th>ENDURALLOY_LENGTH</th>\n",
       "      <th>POLY_LENGTH</th>\n",
       "      <th>NIPPLE_SET_DEPTH</th>\n",
       "      <th>pump_bore</th>\n",
       "      <th>gasanchor_od</th>\n",
       "    </tr>\n",
       "  </thead>\n",
       "  <tbody>\n",
       "    <tr>\n",
       "      <th>0</th>\n",
       "      <td>GB27GKBE51029074693667</td>\n",
       "      <td>175-58-0111</td>\n",
       "      <td>box-child-doctor</td>\n",
       "      <td>GPVO63973435661154</td>\n",
       "      <td>GB55QFGB46756147811400</td>\n",
       "      <td>2014-05-02 00:00:00.000</td>\n",
       "      <td>2019-01-04 10:00:00.000</td>\n",
       "      <td>FGNB86581338411987</td>\n",
       "      <td>Tubing</td>\n",
       "      <td>2018-12-11 00:00:00.000</td>\n",
       "      <td>...</td>\n",
       "      <td>NaN</td>\n",
       "      <td>NaN</td>\n",
       "      <td>NaN</td>\n",
       "      <td>UNKNOWN</td>\n",
       "      <td>0.0</td>\n",
       "      <td>0.00</td>\n",
       "      <td>0.0</td>\n",
       "      <td>10024.8</td>\n",
       "      <td>1.5</td>\n",
       "      <td>NaN</td>\n",
       "    </tr>\n",
       "    <tr>\n",
       "      <th>1</th>\n",
       "      <td>GB53OEVX46438297645035</td>\n",
       "      <td>333-68-3523</td>\n",
       "      <td>outside-worry</td>\n",
       "      <td>ZAYT33358197650329</td>\n",
       "      <td>GB29QCCC14341267287129</td>\n",
       "      <td>2018-01-28 14:00:00.000</td>\n",
       "      <td>2019-05-17 12:00:00.000</td>\n",
       "      <td>XRYU81281518151403</td>\n",
       "      <td>Tubing</td>\n",
       "      <td>2019-04-01 00:00:00.000</td>\n",
       "      <td>...</td>\n",
       "      <td>179.44</td>\n",
       "      <td>179.44</td>\n",
       "      <td>179.44</td>\n",
       "      <td>Miller LLC</td>\n",
       "      <td>0.0</td>\n",
       "      <td>0.00</td>\n",
       "      <td>0.0</td>\n",
       "      <td>10235.6</td>\n",
       "      <td>1.5</td>\n",
       "      <td>3.5</td>\n",
       "    </tr>\n",
       "    <tr>\n",
       "      <th>2</th>\n",
       "      <td>GB95BPWW35640301552066</td>\n",
       "      <td>165-51-5897</td>\n",
       "      <td>near-learn-simply</td>\n",
       "      <td>FNVL11432909873086</td>\n",
       "      <td>GB02DJAW44801752494129</td>\n",
       "      <td>2011-09-14 00:00:00.000</td>\n",
       "      <td>2012-08-20 00:00:00.000</td>\n",
       "      <td>PLPR44121073149707</td>\n",
       "      <td>Sucker Rod Pump</td>\n",
       "      <td>2012-08-01 00:00:00.000</td>\n",
       "      <td>...</td>\n",
       "      <td>105.76</td>\n",
       "      <td>105.76</td>\n",
       "      <td>105.76</td>\n",
       "      <td>Miller LLC</td>\n",
       "      <td>0.0</td>\n",
       "      <td>0.00</td>\n",
       "      <td>0.0</td>\n",
       "      <td>10401.9</td>\n",
       "      <td>1.5</td>\n",
       "      <td>NaN</td>\n",
       "    </tr>\n",
       "    <tr>\n",
       "      <th>3</th>\n",
       "      <td>GB79UEDN31454825972680</td>\n",
       "      <td>543-56-3494</td>\n",
       "      <td>sea-improve-place</td>\n",
       "      <td>JOKL33317998159514</td>\n",
       "      <td>GB84GHPH97287631470412</td>\n",
       "      <td>2016-01-12 09:00:00.000</td>\n",
       "      <td>2017-03-16 16:30:00.000</td>\n",
       "      <td>MYCF04792093856141</td>\n",
       "      <td>Sucker Rod Pump</td>\n",
       "      <td>2017-01-19 00:00:00.000</td>\n",
       "      <td>...</td>\n",
       "      <td>98.18</td>\n",
       "      <td>47.96</td>\n",
       "      <td>98.18</td>\n",
       "      <td>Miller LLC</td>\n",
       "      <td>0.0</td>\n",
       "      <td>0.00</td>\n",
       "      <td>0.0</td>\n",
       "      <td>9557.7</td>\n",
       "      <td>1.75</td>\n",
       "      <td>4.5</td>\n",
       "    </tr>\n",
       "    <tr>\n",
       "      <th>4</th>\n",
       "      <td>GB20XCTM13691331349509</td>\n",
       "      <td>391-37-2039</td>\n",
       "      <td>personal-candidate</td>\n",
       "      <td>XOSU92041716672870</td>\n",
       "      <td>GB08VYTX61977431827206</td>\n",
       "      <td>2018-06-14 13:00:00.000</td>\n",
       "      <td>2020-04-15 17:37:11.338</td>\n",
       "      <td>WJDB83445325478746</td>\n",
       "      <td>NaN</td>\n",
       "      <td>NaN</td>\n",
       "      <td>...</td>\n",
       "      <td>266.68</td>\n",
       "      <td>266.68</td>\n",
       "      <td>170.99</td>\n",
       "      <td>Miller LLC</td>\n",
       "      <td>0.0</td>\n",
       "      <td>129.39</td>\n",
       "      <td>0.0</td>\n",
       "      <td>9681.7</td>\n",
       "      <td>1.75</td>\n",
       "      <td>NaN</td>\n",
       "    </tr>\n",
       "  </tbody>\n",
       "</table>\n",
       "<p>5 rows × 55 columns</p>\n",
       "</div>"
      ],
      "text/plain": [
       "                   roduid          UWI              NODEID  \\\n",
       "0  GB27GKBE51029074693667  175-58-0111    box-child-doctor   \n",
       "1  GB53OEVX46438297645035  333-68-3523       outside-worry   \n",
       "2  GB95BPWW35640301552066  165-51-5897   near-learn-simply   \n",
       "3  GB79UEDN31454825972680  543-56-3494   sea-improve-place   \n",
       "4  GB20XCTM13691331349509  391-37-2039  personal-candidate   \n",
       "\n",
       "               IDWELL                  tbguid           lifetime_start  \\\n",
       "0  GPVO63973435661154  GB55QFGB46756147811400  2014-05-02 00:00:00.000   \n",
       "1  ZAYT33358197650329  GB29QCCC14341267287129  2018-01-28 14:00:00.000   \n",
       "2  FNVL11432909873086  GB02DJAW44801752494129  2011-09-14 00:00:00.000   \n",
       "3  JOKL33317998159514  GB84GHPH97287631470412  2016-01-12 09:00:00.000   \n",
       "4  XOSU92041716672870  GB08VYTX61977431827206  2018-06-14 13:00:00.000   \n",
       "\n",
       "              lifetime_end        IDRECJOBPULL         REPORTTO  \\\n",
       "0  2019-01-04 10:00:00.000  FGNB86581338411987           Tubing   \n",
       "1  2019-05-17 12:00:00.000  XRYU81281518151403           Tubing   \n",
       "2  2012-08-20 00:00:00.000  PLPR44121073149707  Sucker Rod Pump   \n",
       "3  2017-03-16 16:30:00.000  MYCF04792093856141  Sucker Rod Pump   \n",
       "4  2020-04-15 17:37:11.338  WJDB83445325478746              NaN   \n",
       "\n",
       "                 FAILSTART  ... overall_max_sideload  shallow_max_sideload  \\\n",
       "0  2018-12-11 00:00:00.000  ...                  NaN                   NaN   \n",
       "1  2019-04-01 00:00:00.000  ...               179.44                179.44   \n",
       "2  2012-08-01 00:00:00.000  ...               105.76                105.76   \n",
       "3  2017-01-19 00:00:00.000  ...                98.18                 47.96   \n",
       "4                      NaN  ...               266.68                266.68   \n",
       "\n",
       "   max_unguided_sideload  DESANDDEGAS_TYP  CHROME_LENGTH  ENDURALLOY_LENGTH  \\\n",
       "0                    NaN          UNKNOWN            0.0               0.00   \n",
       "1                 179.44       Miller LLC            0.0               0.00   \n",
       "2                 105.76       Miller LLC            0.0               0.00   \n",
       "3                  98.18       Miller LLC            0.0               0.00   \n",
       "4                 170.99       Miller LLC            0.0             129.39   \n",
       "\n",
       "   POLY_LENGTH  NIPPLE_SET_DEPTH pump_bore  gasanchor_od  \n",
       "0          0.0           10024.8       1.5           NaN  \n",
       "1          0.0           10235.6       1.5           3.5  \n",
       "2          0.0           10401.9       1.5           NaN  \n",
       "3          0.0            9557.7      1.75           4.5  \n",
       "4          0.0            9681.7      1.75           NaN  \n",
       "\n",
       "[5 rows x 55 columns]"
      ]
     },
     "execution_count": 852,
     "metadata": {},
     "output_type": "execute_result"
    }
   ],
   "source": [
    "# data preview\n",
    "df.head(5)"
   ]
  },
  {
   "cell_type": "code",
   "execution_count": 853,
   "metadata": {
    "colab": {
     "base_uri": "https://localhost:8080/",
     "height": 34
    },
    "id": "9y6ubxX_kILS",
    "outputId": "1eb92ba3-5bf2-42cd-c53d-3a43e3a05da5"
   },
   "outputs": [
    {
     "data": {
      "text/plain": [
       "2596"
      ]
     },
     "execution_count": 853,
     "metadata": {},
     "output_type": "execute_result"
    }
   ],
   "source": [
    "# number of unique rows\n",
    "len(df.roduid.unique())"
   ]
  },
  {
   "cell_type": "markdown",
   "metadata": {
    "id": "Ypv-VoLEG6_O"
   },
   "source": [
    "**Check for missing or possibly erroneous data.**"
   ]
  },
  {
   "cell_type": "code",
   "execution_count": 854,
   "metadata": {
    "colab": {
     "base_uri": "https://localhost:8080/",
     "height": 34
    },
    "id": "zxm1zVudkMJ9",
    "outputId": "2f5d46fa-2194-4369-b7e7-3a2d9017cf59"
   },
   "outputs": [
    {
     "data": {
      "text/plain": [
       "0"
      ]
     },
     "execution_count": 854,
     "metadata": {},
     "output_type": "execute_result"
    }
   ],
   "source": [
    "# There are no duplicated rows\n",
    "len(df[df.duplicated() == True])"
   ]
  },
  {
   "cell_type": "code",
   "execution_count": 855,
   "metadata": {
    "colab": {
     "base_uri": "https://localhost:8080/",
     "height": 991
    },
    "id": "RYDl_g4okU29",
    "outputId": "dd40fd05-ed06-4b53-ab97-9d6e13078ab3"
   },
   "outputs": [
    {
     "data": {
      "text/plain": [
       "roduid                          0\n",
       "UWI                             0\n",
       "NODEID                          0\n",
       "IDWELL                          0\n",
       "tbguid                          0\n",
       "lifetime_start                  0\n",
       "lifetime_end                    0\n",
       "IDRECJOBPULL                    0\n",
       "REPORTTO                      871\n",
       "FAILSTART                     871\n",
       "FAILURETYPE                   875\n",
       "H2S_CONCENTRATION               0\n",
       "PrimarySetpoint                 0\n",
       "SecondarySetpoint               0\n",
       "StrokeLength                    0\n",
       "GrossStrokeLength            1096\n",
       "Fillage                       612\n",
       "YesterdaysAverageSPM          771\n",
       "bha_configuration              46\n",
       "chemgroup1_any                  0\n",
       "chemgroup1_all                  0\n",
       "chemgroup2_any                  0\n",
       "chemgroup2_all                  0\n",
       "chemgroup3_any                  0\n",
       "chemgroup3_all                  0\n",
       "max_unguided_dls               49\n",
       "dls_high_in_hole               50\n",
       "gas_anchor_length               4\n",
       "MAX_INCLINATION                49\n",
       "wellbore_category               5\n",
       "manual_scale                    0\n",
       "packer_vs_tac                  14\n",
       "AVG_PRESS_FLOWLINE            935\n",
       "AVG_PRESSURE_TUBING            58\n",
       "AVG_PRESSURE_CASING            52\n",
       "AVG_DIFFERENTIAL_PRESSURE      54\n",
       "AVG_OIL_VOLUME                 18\n",
       "AVG_WATER_VOLUME               18\n",
       "AVG_LIQUID_VOLUME              18\n",
       "AVG_WATERSG                   742\n",
       "rod_sinker_type                 0\n",
       "rod_has_guides                  0\n",
       "rod_make                        0\n",
       "rod_apigrade                    5\n",
       "ROUTE                           0\n",
       "overall_max_sideload          878\n",
       "shallow_max_sideload          879\n",
       "max_unguided_sideload         879\n",
       "DESANDDEGAS_TYP                 0\n",
       "CHROME_LENGTH                   0\n",
       "ENDURALLOY_LENGTH               0\n",
       "POLY_LENGTH                     0\n",
       "NIPPLE_SET_DEPTH               23\n",
       "pump_bore                       0\n",
       "gasanchor_od                 1108\n",
       "dtype: int64"
      ]
     },
     "execution_count": 855,
     "metadata": {},
     "output_type": "execute_result"
    }
   ],
   "source": [
    "# Show total null values per column\n",
    "df.isnull().sum()"
   ]
  },
  {
   "cell_type": "code",
   "execution_count": 856,
   "metadata": {
    "id": "-qr0L3TekZfH"
   },
   "outputs": [],
   "source": [
    "# Drop columns with more than 500 missing values and drop other irrelevant columns (make sure to keep the failstart and failtype variables)\n",
    "df.drop(['IDRECJOBPULL','roduid','UWI', 'NODEID', 'IDWELL', 'tbguid', 'REPORTTO', 'GrossStrokeLength', 'Fillage', 'YesterdaysAverageSPM', 'AVG_PRESS_FLOWLINE', 'AVG_WATERSG', 'overall_max_sideload', 'shallow_max_sideload', 'max_unguided_sideload', 'gasanchor_od'],  axis=1, inplace=True)"
   ]
  },
  {
   "cell_type": "code",
   "execution_count": 857,
   "metadata": {
    "colab": {
     "base_uri": "https://localhost:8080/",
     "height": 225
    },
    "id": "jFUXlWbvpW18",
    "outputId": "c636164a-23a6-4277-adcb-2bf289a6c0ac"
   },
   "outputs": [
    {
     "data": {
      "text/plain": [
       "Index(['lifetime_start', 'lifetime_end', 'FAILSTART', 'FAILURETYPE',\n",
       "       'H2S_CONCENTRATION', 'PrimarySetpoint', 'SecondarySetpoint',\n",
       "       'StrokeLength', 'bha_configuration', 'chemgroup1_any', 'chemgroup1_all',\n",
       "       'chemgroup2_any', 'chemgroup2_all', 'chemgroup3_any', 'chemgroup3_all',\n",
       "       'max_unguided_dls', 'dls_high_in_hole', 'gas_anchor_length',\n",
       "       'MAX_INCLINATION', 'wellbore_category', 'manual_scale', 'packer_vs_tac',\n",
       "       'AVG_PRESSURE_TUBING', 'AVG_PRESSURE_CASING',\n",
       "       'AVG_DIFFERENTIAL_PRESSURE', 'AVG_OIL_VOLUME', 'AVG_WATER_VOLUME',\n",
       "       'AVG_LIQUID_VOLUME', 'rod_sinker_type', 'rod_has_guides', 'rod_make',\n",
       "       'rod_apigrade', 'ROUTE', 'DESANDDEGAS_TYP', 'CHROME_LENGTH',\n",
       "       'ENDURALLOY_LENGTH', 'POLY_LENGTH', 'NIPPLE_SET_DEPTH', 'pump_bore'],\n",
       "      dtype='object')"
      ]
     },
     "execution_count": 857,
     "metadata": {},
     "output_type": "execute_result"
    }
   ],
   "source": [
    "# print columns\n",
    "df.columns"
   ]
  },
  {
   "cell_type": "code",
   "execution_count": 858,
   "metadata": {},
   "outputs": [
    {
     "data": {
      "text/plain": [
       "lifetime_start                object\n",
       "lifetime_end                  object\n",
       "FAILSTART                     object\n",
       "FAILURETYPE                   object\n",
       "H2S_CONCENTRATION            float64\n",
       "PrimarySetpoint              float64\n",
       "SecondarySetpoint            float64\n",
       "StrokeLength                 float64\n",
       "bha_configuration             object\n",
       "chemgroup1_any                 int64\n",
       "chemgroup1_all                 int64\n",
       "chemgroup2_any                 int64\n",
       "chemgroup2_all                 int64\n",
       "chemgroup3_any                 int64\n",
       "chemgroup3_all                 int64\n",
       "max_unguided_dls             float64\n",
       "dls_high_in_hole             float64\n",
       "gas_anchor_length            float64\n",
       "MAX_INCLINATION              float64\n",
       "wellbore_category             object\n",
       "manual_scale                  object\n",
       "packer_vs_tac                 object\n",
       "AVG_PRESSURE_TUBING          float64\n",
       "AVG_PRESSURE_CASING          float64\n",
       "AVG_DIFFERENTIAL_PRESSURE    float64\n",
       "AVG_OIL_VOLUME               float64\n",
       "AVG_WATER_VOLUME             float64\n",
       "AVG_LIQUID_VOLUME            float64\n",
       "rod_sinker_type               object\n",
       "rod_has_guides                  bool\n",
       "rod_make                      object\n",
       "rod_apigrade                  object\n",
       "ROUTE                          int64\n",
       "DESANDDEGAS_TYP               object\n",
       "CHROME_LENGTH                float64\n",
       "ENDURALLOY_LENGTH            float64\n",
       "POLY_LENGTH                  float64\n",
       "NIPPLE_SET_DEPTH             float64\n",
       "pump_bore                     object\n",
       "dtype: object"
      ]
     },
     "execution_count": 858,
     "metadata": {},
     "output_type": "execute_result"
    }
   ],
   "source": [
    "df.dtypes"
   ]
  },
  {
   "cell_type": "code",
   "execution_count": 859,
   "metadata": {},
   "outputs": [
    {
     "data": {
      "text/plain": [
       "<matplotlib.axes._subplots.AxesSubplot at 0x1e7c7e83490>"
      ]
     },
     "execution_count": 859,
     "metadata": {},
     "output_type": "execute_result"
    },
    {
     "data": {
      "image/png": "[encoded data removed]",
      "text/plain": [
       "<Figure size 1008x432 with 1 Axes>"
      ]
     },
     "metadata": {
      "needs_background": "light"
     },
     "output_type": "display_data"
    }
   ],
   "source": [
    "sns.countplot(x='FAILURETYPE', data=df)"
   ]
  },
  {
   "cell_type": "code",
   "execution_count": 860,
   "metadata": {
    "colab": {
     "base_uri": "https://localhost:8080/",
     "height": 225
    },
    "id": "uvoxfAXvV4aj",
    "outputId": "e1b6014b-977d-4580-9864-909cfd7aa754"
   },
   "outputs": [],
   "source": [
    "# create a column that subtracts lifetime end from lifetime start\n",
    "df['lifetime_start'] = pd.to_datetime(df['lifetime_start'])\n",
    "df['lifetime_end'] = pd.to_datetime(df['lifetime_end'])\n",
    "df['FAILSTART'] = pd.to_datetime(df['FAILSTART'])"
   ]
  },
  {
   "cell_type": "code",
   "execution_count": 1,
   "metadata": {},
   "outputs": [
    {
     "ename": "NameError",
     "evalue": "name 'app' is not defined",
     "output_type": "error",
     "traceback": [
      "\u001b[1;31m---------------------------------------------------------------------------\u001b[0m",
      "\u001b[1;31mNameError\u001b[0m                                 Traceback (most recent call last)",
      "\u001b[1;32m<ipython-input-1-9bc660109484>\u001b[0m in \u001b[0;36m<module>\u001b[1;34m\u001b[0m\n\u001b[1;32m----> 1\u001b[1;33m \u001b[0mapp\u001b[0m\u001b[1;33m.\u001b[0m\u001b[0mrun_server\u001b[0m\u001b[1;33m(\u001b[0m\u001b[0mmode\u001b[0m\u001b[1;33m=\u001b[0m\u001b[1;34m\"jupyterlab\"\u001b[0m\u001b[1;33m)\u001b[0m\u001b[1;33m\u001b[0m\u001b[1;33m\u001b[0m\u001b[0m\n\u001b[0m",
      "\u001b[1;31mNameError\u001b[0m: name 'app' is not defined"
     ]
    }
   ],
   "source": [
    "app.run_server(mode=\"jupyterlab\")"
   ]
  },
  {
   "cell_type": "code",
   "execution_count": 861,
   "metadata": {},
   "outputs": [],
   "source": [
    "# Convert dates to ordinal values\n",
    "df['lifetime_start'] = pd.to_datetime(df['lifetime_start'])\n",
    "df['lifetime_start']= df['lifetime_start'].map(dt.datetime.toordinal)\n",
    "\n",
    "df['lifetime_end'] = pd.to_datetime(df['lifetime_end'])\n",
    "df['lifetime_end']= df['lifetime_end'].map(dt.datetime.toordinal)\n",
    "\n",
    "df['FAILSTART'] = pd.to_datetime(df['FAILSTART'])\n",
    "df['FAILSTART']= df['FAILSTART'].map(dt.datetime.toordinal)"
   ]
  },
  {
   "cell_type": "code",
   "execution_count": 862,
   "metadata": {},
   "outputs": [
    {
     "data": {
      "text/plain": [
       "0       1708\n",
       "1        474\n",
       "2        341\n",
       "3        429\n",
       "4        671\n",
       "        ... \n",
       "2591     706\n",
       "2592     428\n",
       "2593      43\n",
       "2594      32\n",
       "2595     204\n",
       "Length: 2596, dtype: int64"
      ]
     },
     "execution_count": 862,
     "metadata": {},
     "output_type": "execute_result"
    }
   ],
   "source": [
    "lifetime = df['lifetime_end'] - df['lifetime_start']\n",
    "lifetime"
   ]
  },
  {
   "cell_type": "code",
   "execution_count": 869,
   "metadata": {},
   "outputs": [
    {
     "data": {
      "text/plain": [
       "0        24\n",
       "1        46\n",
       "2        19\n",
       "3        56\n",
       "6        26\n",
       "       ... \n",
       "2587     30\n",
       "2588    521\n",
       "2593     31\n",
       "2594     17\n",
       "2595     15\n",
       "Length: 1604, dtype: int64"
      ]
     },
     "execution_count": 869,
     "metadata": {},
     "output_type": "execute_result"
    }
   ],
   "source": [
    "failure_start_to_complete_failure = df['lifetime_end'] - df['FAILSTART']\n",
    "failure_start_to_complete_failure"
   ]
  },
  {
   "cell_type": "code",
   "execution_count": 864,
   "metadata": {},
   "outputs": [],
   "source": [
    "df['failure_start_to_complete_failure'] = failure_start_to_complete_failure"
   ]
  },
  {
   "cell_type": "code",
   "execution_count": 865,
   "metadata": {},
   "outputs": [],
   "source": [
    "# add new columns to the data set\n",
    "df['lifetime'] = lifetime"
   ]
  },
  {
   "cell_type": "code",
   "execution_count": 866,
   "metadata": {
    "id": "ZBKXJZIvpkiy"
   },
   "outputs": [],
   "source": [
    "# get rid of missing rows\n",
    "df = df.dropna(axis=0)"
   ]
  },
  {
   "cell_type": "code",
   "execution_count": 867,
   "metadata": {
    "colab": {
     "base_uri": "https://localhost:8080/",
     "height": 730
    },
    "id": "A8Wn1_Uebg75",
    "outputId": "b2a99b14-2236-41cc-83ec-910aa5131d3d"
   },
   "outputs": [
    {
     "data": {
      "text/plain": [
       "lifetime_start                       0\n",
       "lifetime_end                         0\n",
       "FAILSTART                            0\n",
       "FAILURETYPE                          0\n",
       "H2S_CONCENTRATION                    0\n",
       "PrimarySetpoint                      0\n",
       "SecondarySetpoint                    0\n",
       "StrokeLength                         0\n",
       "bha_configuration                    0\n",
       "chemgroup1_any                       0\n",
       "chemgroup1_all                       0\n",
       "chemgroup2_any                       0\n",
       "chemgroup2_all                       0\n",
       "chemgroup3_any                       0\n",
       "chemgroup3_all                       0\n",
       "max_unguided_dls                     0\n",
       "dls_high_in_hole                     0\n",
       "gas_anchor_length                    0\n",
       "MAX_INCLINATION                      0\n",
       "wellbore_category                    0\n",
       "manual_scale                         0\n",
       "packer_vs_tac                        0\n",
       "AVG_PRESSURE_TUBING                  0\n",
       "AVG_PRESSURE_CASING                  0\n",
       "AVG_DIFFERENTIAL_PRESSURE            0\n",
       "AVG_OIL_VOLUME                       0\n",
       "AVG_WATER_VOLUME                     0\n",
       "AVG_LIQUID_VOLUME                    0\n",
       "rod_sinker_type                      0\n",
       "rod_has_guides                       0\n",
       "rod_make                             0\n",
       "rod_apigrade                         0\n",
       "ROUTE                                0\n",
       "DESANDDEGAS_TYP                      0\n",
       "CHROME_LENGTH                        0\n",
       "ENDURALLOY_LENGTH                    0\n",
       "POLY_LENGTH                          0\n",
       "NIPPLE_SET_DEPTH                     0\n",
       "pump_bore                            0\n",
       "failure_start_to_complete_failure    0\n",
       "lifetime                             0\n",
       "dtype: int64"
      ]
     },
     "execution_count": 867,
     "metadata": {},
     "output_type": "execute_result"
    }
   ],
   "source": [
    "# check missing values again\n",
    "df.isnull().sum()"
   ]
  },
  {
   "cell_type": "code",
   "execution_count": 868,
   "metadata": {
    "colab": {
     "base_uri": "https://localhost:8080/",
     "height": 880
    },
    "id": "NFuRQtffp-EP",
    "outputId": "6836c470-231e-4f0a-8c02-1759f67a2e64"
   },
   "outputs": [
    {
     "data": {
      "text/html": [
       "<div>\n",
       "<style scoped>\n",
       "    .dataframe tbody tr th:only-of-type {\n",
       "        vertical-align: middle;\n",
       "    }\n",
       "\n",
       "    .dataframe tbody tr th {\n",
       "        vertical-align: top;\n",
       "    }\n",
       "\n",
       "    .dataframe thead th {\n",
       "        text-align: right;\n",
       "    }\n",
       "</style>\n",
       "<table border=\"1\" class=\"dataframe\">\n",
       "  <thead>\n",
       "    <tr style=\"text-align: right;\">\n",
       "      <th></th>\n",
       "      <th>lifetime_start</th>\n",
       "      <th>lifetime_end</th>\n",
       "      <th>FAILSTART</th>\n",
       "      <th>FAILURETYPE</th>\n",
       "      <th>H2S_CONCENTRATION</th>\n",
       "      <th>PrimarySetpoint</th>\n",
       "      <th>SecondarySetpoint</th>\n",
       "      <th>StrokeLength</th>\n",
       "      <th>bha_configuration</th>\n",
       "      <th>chemgroup1_any</th>\n",
       "      <th>...</th>\n",
       "      <th>rod_apigrade</th>\n",
       "      <th>ROUTE</th>\n",
       "      <th>DESANDDEGAS_TYP</th>\n",
       "      <th>CHROME_LENGTH</th>\n",
       "      <th>ENDURALLOY_LENGTH</th>\n",
       "      <th>POLY_LENGTH</th>\n",
       "      <th>NIPPLE_SET_DEPTH</th>\n",
       "      <th>pump_bore</th>\n",
       "      <th>failure_start_to_complete_failure</th>\n",
       "      <th>lifetime</th>\n",
       "    </tr>\n",
       "  </thead>\n",
       "  <tbody>\n",
       "    <tr>\n",
       "      <th>0</th>\n",
       "      <td>735355</td>\n",
       "      <td>737063</td>\n",
       "      <td>737039</td>\n",
       "      <td>Tubing</td>\n",
       "      <td>0.0</td>\n",
       "      <td>75.0</td>\n",
       "      <td>60.0</td>\n",
       "      <td>144.000000</td>\n",
       "      <td>TAC_ABOVE_NIP</td>\n",
       "      <td>1</td>\n",
       "      <td>...</td>\n",
       "      <td>D</td>\n",
       "      <td>900</td>\n",
       "      <td>UNKNOWN</td>\n",
       "      <td>0.0</td>\n",
       "      <td>0.00</td>\n",
       "      <td>0.0</td>\n",
       "      <td>10024.8</td>\n",
       "      <td>1.5</td>\n",
       "      <td>24</td>\n",
       "      <td>1708</td>\n",
       "    </tr>\n",
       "    <tr>\n",
       "      <th>1</th>\n",
       "      <td>736722</td>\n",
       "      <td>737196</td>\n",
       "      <td>737150</td>\n",
       "      <td>Tubing</td>\n",
       "      <td>0.0</td>\n",
       "      <td>80.0</td>\n",
       "      <td>62.0</td>\n",
       "      <td>168.000000</td>\n",
       "      <td>TAC_BELOW_NIP</td>\n",
       "      <td>1</td>\n",
       "      <td>...</td>\n",
       "      <td>SpecialService</td>\n",
       "      <td>882</td>\n",
       "      <td>Miller LLC</td>\n",
       "      <td>0.0</td>\n",
       "      <td>0.00</td>\n",
       "      <td>0.0</td>\n",
       "      <td>10235.6</td>\n",
       "      <td>1.5</td>\n",
       "      <td>46</td>\n",
       "      <td>474</td>\n",
       "    </tr>\n",
       "    <tr>\n",
       "      <th>2</th>\n",
       "      <td>734394</td>\n",
       "      <td>734735</td>\n",
       "      <td>734716</td>\n",
       "      <td>Sucker Rod Pump</td>\n",
       "      <td>0.0</td>\n",
       "      <td>75.0</td>\n",
       "      <td>60.0</td>\n",
       "      <td>144.000000</td>\n",
       "      <td>PACKER_DONNAN</td>\n",
       "      <td>0</td>\n",
       "      <td>...</td>\n",
       "      <td>D</td>\n",
       "      <td>880</td>\n",
       "      <td>Miller LLC</td>\n",
       "      <td>0.0</td>\n",
       "      <td>0.00</td>\n",
       "      <td>0.0</td>\n",
       "      <td>10401.9</td>\n",
       "      <td>1.5</td>\n",
       "      <td>19</td>\n",
       "      <td>341</td>\n",
       "    </tr>\n",
       "    <tr>\n",
       "      <th>3</th>\n",
       "      <td>735975</td>\n",
       "      <td>736404</td>\n",
       "      <td>736348</td>\n",
       "      <td>Sucker Rod Pump</td>\n",
       "      <td>0.0</td>\n",
       "      <td>75.0</td>\n",
       "      <td>60.0</td>\n",
       "      <td>144.199997</td>\n",
       "      <td>TAC_ABOVE_NIP</td>\n",
       "      <td>1</td>\n",
       "      <td>...</td>\n",
       "      <td>D</td>\n",
       "      <td>875</td>\n",
       "      <td>Miller LLC</td>\n",
       "      <td>0.0</td>\n",
       "      <td>0.00</td>\n",
       "      <td>0.0</td>\n",
       "      <td>9557.7</td>\n",
       "      <td>1.75</td>\n",
       "      <td>56</td>\n",
       "      <td>429</td>\n",
       "    </tr>\n",
       "    <tr>\n",
       "      <th>6</th>\n",
       "      <td>735829</td>\n",
       "      <td>736046</td>\n",
       "      <td>736020</td>\n",
       "      <td>Tubing</td>\n",
       "      <td>0.0</td>\n",
       "      <td>75.0</td>\n",
       "      <td>60.0</td>\n",
       "      <td>168.000000</td>\n",
       "      <td>TAC_ABOVE_NIP</td>\n",
       "      <td>0</td>\n",
       "      <td>...</td>\n",
       "      <td>SpecialService</td>\n",
       "      <td>883</td>\n",
       "      <td>UNKNOWN</td>\n",
       "      <td>0.0</td>\n",
       "      <td>0.00</td>\n",
       "      <td>0.0</td>\n",
       "      <td>10158.4</td>\n",
       "      <td>1.75</td>\n",
       "      <td>26</td>\n",
       "      <td>217</td>\n",
       "    </tr>\n",
       "    <tr>\n",
       "      <th>...</th>\n",
       "      <td>...</td>\n",
       "      <td>...</td>\n",
       "      <td>...</td>\n",
       "      <td>...</td>\n",
       "      <td>...</td>\n",
       "      <td>...</td>\n",
       "      <td>...</td>\n",
       "      <td>...</td>\n",
       "      <td>...</td>\n",
       "      <td>...</td>\n",
       "      <td>...</td>\n",
       "      <td>...</td>\n",
       "      <td>...</td>\n",
       "      <td>...</td>\n",
       "      <td>...</td>\n",
       "      <td>...</td>\n",
       "      <td>...</td>\n",
       "      <td>...</td>\n",
       "      <td>...</td>\n",
       "      <td>...</td>\n",
       "      <td>...</td>\n",
       "    </tr>\n",
       "    <tr>\n",
       "      <th>2587</th>\n",
       "      <td>735638</td>\n",
       "      <td>735985</td>\n",
       "      <td>735955</td>\n",
       "      <td>Tubing</td>\n",
       "      <td>0.0</td>\n",
       "      <td>76.0</td>\n",
       "      <td>60.0</td>\n",
       "      <td>144.000000</td>\n",
       "      <td>PACKER_DONNAN</td>\n",
       "      <td>0</td>\n",
       "      <td>...</td>\n",
       "      <td>SpecialService</td>\n",
       "      <td>875</td>\n",
       "      <td>Miller LLC</td>\n",
       "      <td>0.0</td>\n",
       "      <td>0.00</td>\n",
       "      <td>0.0</td>\n",
       "      <td>10153.1</td>\n",
       "      <td>1.75</td>\n",
       "      <td>30</td>\n",
       "      <td>347</td>\n",
       "    </tr>\n",
       "    <tr>\n",
       "      <th>2588</th>\n",
       "      <td>735764</td>\n",
       "      <td>736613</td>\n",
       "      <td>736092</td>\n",
       "      <td>Rods</td>\n",
       "      <td>0.0</td>\n",
       "      <td>75.0</td>\n",
       "      <td>65.0</td>\n",
       "      <td>144.199997</td>\n",
       "      <td>TAC_ABOVE_NIP</td>\n",
       "      <td>1</td>\n",
       "      <td>...</td>\n",
       "      <td>D</td>\n",
       "      <td>885</td>\n",
       "      <td>Miller LLC</td>\n",
       "      <td>0.0</td>\n",
       "      <td>0.00</td>\n",
       "      <td>0.0</td>\n",
       "      <td>9899.3</td>\n",
       "      <td>1.5</td>\n",
       "      <td>521</td>\n",
       "      <td>849</td>\n",
       "    </tr>\n",
       "    <tr>\n",
       "      <th>2593</th>\n",
       "      <td>737019</td>\n",
       "      <td>737062</td>\n",
       "      <td>737031</td>\n",
       "      <td>Rods</td>\n",
       "      <td>0.0</td>\n",
       "      <td>75.0</td>\n",
       "      <td>60.0</td>\n",
       "      <td>168.039993</td>\n",
       "      <td>TAC_ABOVE_NIP</td>\n",
       "      <td>0</td>\n",
       "      <td>...</td>\n",
       "      <td>SpecialService</td>\n",
       "      <td>900</td>\n",
       "      <td>West-Washington</td>\n",
       "      <td>0.0</td>\n",
       "      <td>65.35</td>\n",
       "      <td>0.0</td>\n",
       "      <td>9014.5</td>\n",
       "      <td>1.75</td>\n",
       "      <td>31</td>\n",
       "      <td>43</td>\n",
       "    </tr>\n",
       "    <tr>\n",
       "      <th>2594</th>\n",
       "      <td>735005</td>\n",
       "      <td>735037</td>\n",
       "      <td>735020</td>\n",
       "      <td>Sucker Rod Pump</td>\n",
       "      <td>0.0</td>\n",
       "      <td>75.0</td>\n",
       "      <td>60.0</td>\n",
       "      <td>144.000000</td>\n",
       "      <td>TAC_ABOVE_NIP</td>\n",
       "      <td>0</td>\n",
       "      <td>...</td>\n",
       "      <td>D</td>\n",
       "      <td>875</td>\n",
       "      <td>UNKNOWN</td>\n",
       "      <td>0.0</td>\n",
       "      <td>0.00</td>\n",
       "      <td>0.0</td>\n",
       "      <td>9532.2</td>\n",
       "      <td>1.5</td>\n",
       "      <td>17</td>\n",
       "      <td>32</td>\n",
       "    </tr>\n",
       "    <tr>\n",
       "      <th>2595</th>\n",
       "      <td>735058</td>\n",
       "      <td>735262</td>\n",
       "      <td>735247</td>\n",
       "      <td>Tubing</td>\n",
       "      <td>0.0</td>\n",
       "      <td>75.0</td>\n",
       "      <td>60.0</td>\n",
       "      <td>144.000000</td>\n",
       "      <td>TAC_ABOVE_NIP</td>\n",
       "      <td>0</td>\n",
       "      <td>...</td>\n",
       "      <td>D</td>\n",
       "      <td>872</td>\n",
       "      <td>Miller LLC</td>\n",
       "      <td>0.0</td>\n",
       "      <td>0.00</td>\n",
       "      <td>0.0</td>\n",
       "      <td>10165.0</td>\n",
       "      <td>1.5</td>\n",
       "      <td>15</td>\n",
       "      <td>204</td>\n",
       "    </tr>\n",
       "  </tbody>\n",
       "</table>\n",
       "<p>1604 rows × 41 columns</p>\n",
       "</div>"
      ],
      "text/plain": [
       "      lifetime_start  lifetime_end  FAILSTART      FAILURETYPE  \\\n",
       "0             735355        737063     737039           Tubing   \n",
       "1             736722        737196     737150           Tubing   \n",
       "2             734394        734735     734716  Sucker Rod Pump   \n",
       "3             735975        736404     736348  Sucker Rod Pump   \n",
       "6             735829        736046     736020           Tubing   \n",
       "...              ...           ...        ...              ...   \n",
       "2587          735638        735985     735955           Tubing   \n",
       "2588          735764        736613     736092             Rods   \n",
       "2593          737019        737062     737031             Rods   \n",
       "2594          735005        735037     735020  Sucker Rod Pump   \n",
       "2595          735058        735262     735247           Tubing   \n",
       "\n",
       "      H2S_CONCENTRATION  PrimarySetpoint  SecondarySetpoint  StrokeLength  \\\n",
       "0                   0.0             75.0               60.0    144.000000   \n",
       "1                   0.0             80.0               62.0    168.000000   \n",
       "2                   0.0             75.0               60.0    144.000000   \n",
       "3                   0.0             75.0               60.0    144.199997   \n",
       "6                   0.0             75.0               60.0    168.000000   \n",
       "...                 ...              ...                ...           ...   \n",
       "2587                0.0             76.0               60.0    144.000000   \n",
       "2588                0.0             75.0               65.0    144.199997   \n",
       "2593                0.0             75.0               60.0    168.039993   \n",
       "2594                0.0             75.0               60.0    144.000000   \n",
       "2595                0.0             75.0               60.0    144.000000   \n",
       "\n",
       "     bha_configuration  chemgroup1_any  ...    rod_apigrade  ROUTE  \\\n",
       "0        TAC_ABOVE_NIP               1  ...               D    900   \n",
       "1        TAC_BELOW_NIP               1  ...  SpecialService    882   \n",
       "2        PACKER_DONNAN               0  ...               D    880   \n",
       "3        TAC_ABOVE_NIP               1  ...               D    875   \n",
       "6        TAC_ABOVE_NIP               0  ...  SpecialService    883   \n",
       "...                ...             ...  ...             ...    ...   \n",
       "2587     PACKER_DONNAN               0  ...  SpecialService    875   \n",
       "2588     TAC_ABOVE_NIP               1  ...               D    885   \n",
       "2593     TAC_ABOVE_NIP               0  ...  SpecialService    900   \n",
       "2594     TAC_ABOVE_NIP               0  ...               D    875   \n",
       "2595     TAC_ABOVE_NIP               0  ...               D    872   \n",
       "\n",
       "      DESANDDEGAS_TYP  CHROME_LENGTH  ENDURALLOY_LENGTH  POLY_LENGTH  \\\n",
       "0             UNKNOWN            0.0               0.00          0.0   \n",
       "1          Miller LLC            0.0               0.00          0.0   \n",
       "2          Miller LLC            0.0               0.00          0.0   \n",
       "3          Miller LLC            0.0               0.00          0.0   \n",
       "6             UNKNOWN            0.0               0.00          0.0   \n",
       "...               ...            ...                ...          ...   \n",
       "2587       Miller LLC            0.0               0.00          0.0   \n",
       "2588       Miller LLC            0.0               0.00          0.0   \n",
       "2593  West-Washington            0.0              65.35          0.0   \n",
       "2594          UNKNOWN            0.0               0.00          0.0   \n",
       "2595       Miller LLC            0.0               0.00          0.0   \n",
       "\n",
       "      NIPPLE_SET_DEPTH  pump_bore  failure_start_to_complete_failure lifetime  \n",
       "0              10024.8        1.5                                 24     1708  \n",
       "1              10235.6        1.5                                 46      474  \n",
       "2              10401.9        1.5                                 19      341  \n",
       "3               9557.7       1.75                                 56      429  \n",
       "6              10158.4       1.75                                 26      217  \n",
       "...                ...        ...                                ...      ...  \n",
       "2587           10153.1       1.75                                 30      347  \n",
       "2588            9899.3        1.5                                521      849  \n",
       "2593            9014.5       1.75                                 31       43  \n",
       "2594            9532.2        1.5                                 17       32  \n",
       "2595           10165.0        1.5                                 15      204  \n",
       "\n",
       "[1604 rows x 41 columns]"
      ]
     },
     "execution_count": 868,
     "metadata": {},
     "output_type": "execute_result"
    }
   ],
   "source": [
    "# Print data\n",
    "df"
   ]
  },
  {
   "cell_type": "code",
   "execution_count": 870,
   "metadata": {
    "colab": {
     "base_uri": "https://localhost:8080/",
     "height": 730
    },
    "id": "B8HjvXu6qEK6",
    "outputId": "81b6a92e-7a71-479a-b3a8-cc89f6c11642"
   },
   "outputs": [
    {
     "data": {
      "text/plain": [
       "lifetime_start                       1604\n",
       "lifetime_end                         1604\n",
       "FAILSTART                            1604\n",
       "FAILURETYPE                          1604\n",
       "H2S_CONCENTRATION                    1604\n",
       "PrimarySetpoint                      1604\n",
       "SecondarySetpoint                    1604\n",
       "StrokeLength                         1604\n",
       "bha_configuration                    1604\n",
       "chemgroup1_any                       1604\n",
       "chemgroup1_all                       1604\n",
       "chemgroup2_any                       1604\n",
       "chemgroup2_all                       1604\n",
       "chemgroup3_any                       1604\n",
       "chemgroup3_all                       1604\n",
       "max_unguided_dls                     1604\n",
       "dls_high_in_hole                     1604\n",
       "gas_anchor_length                    1604\n",
       "MAX_INCLINATION                      1604\n",
       "wellbore_category                    1604\n",
       "manual_scale                         1604\n",
       "packer_vs_tac                        1604\n",
       "AVG_PRESSURE_TUBING                  1604\n",
       "AVG_PRESSURE_CASING                  1604\n",
       "AVG_DIFFERENTIAL_PRESSURE            1604\n",
       "AVG_OIL_VOLUME                       1604\n",
       "AVG_WATER_VOLUME                     1604\n",
       "AVG_LIQUID_VOLUME                    1604\n",
       "rod_sinker_type                      1604\n",
       "rod_has_guides                       1604\n",
       "rod_make                             1604\n",
       "rod_apigrade                         1604\n",
       "ROUTE                                1604\n",
       "DESANDDEGAS_TYP                      1604\n",
       "CHROME_LENGTH                        1604\n",
       "ENDURALLOY_LENGTH                    1604\n",
       "POLY_LENGTH                          1604\n",
       "NIPPLE_SET_DEPTH                     1604\n",
       "pump_bore                            1604\n",
       "failure_start_to_complete_failure    1604\n",
       "lifetime                             1604\n",
       "dtype: int64"
      ]
     },
     "execution_count": 870,
     "metadata": {},
     "output_type": "execute_result"
    }
   ],
   "source": [
    "# Count the number of rows after removing rows with missing values\n",
    "df.count()"
   ]
  },
  {
   "cell_type": "code",
   "execution_count": 871,
   "metadata": {
    "id": "c6O6UyVyqJMy"
   },
   "outputs": [],
   "source": [
    "# Change data types: dates --> datetime .... objects ---> category\n",
    "df['FAILURETYPE'] = df['FAILURETYPE'].astype('category')\n",
    "df['bha_configuration'] = df['bha_configuration'].astype('category')\n",
    "df['wellbore_category'] = df['wellbore_category'].astype('category')\n",
    "df['manual_scale'] = df['manual_scale'].astype('category')\n",
    "df['packer_vs_tac'] = df['packer_vs_tac'].astype('category')\n",
    "df['rod_sinker_type'] = df['rod_sinker_type'].astype('category')\n",
    "df['rod_make'] = df['rod_make'].astype('category')\n",
    "df['rod_apigrade'] = df['rod_apigrade'].astype('category')\n",
    "df['DESANDDEGAS_TYP'] = df['DESANDDEGAS_TYP'].astype('category')\n",
    "df['pump_bore'] = df['pump_bore'].astype('category')"
   ]
  },
  {
   "cell_type": "code",
   "execution_count": 872,
   "metadata": {
    "colab": {
     "base_uri": "https://localhost:8080/",
     "height": 730
    },
    "id": "JM0dr-uoqNy4",
    "outputId": "1da0c4d3-f763-4b24-ee88-0608cf566c40"
   },
   "outputs": [
    {
     "data": {
      "text/plain": [
       "lifetime_start                          int64\n",
       "lifetime_end                            int64\n",
       "FAILSTART                               int64\n",
       "FAILURETYPE                          category\n",
       "H2S_CONCENTRATION                     float64\n",
       "PrimarySetpoint                       float64\n",
       "SecondarySetpoint                     float64\n",
       "StrokeLength                          float64\n",
       "bha_configuration                    category\n",
       "chemgroup1_any                          int64\n",
       "chemgroup1_all                          int64\n",
       "chemgroup2_any                          int64\n",
       "chemgroup2_all                          int64\n",
       "chemgroup3_any                          int64\n",
       "chemgroup3_all                          int64\n",
       "max_unguided_dls                      float64\n",
       "dls_high_in_hole                      float64\n",
       "gas_anchor_length                     float64\n",
       "MAX_INCLINATION                       float64\n",
       "wellbore_category                    category\n",
       "manual_scale                         category\n",
       "packer_vs_tac                        category\n",
       "AVG_PRESSURE_TUBING                   float64\n",
       "AVG_PRESSURE_CASING                   float64\n",
       "AVG_DIFFERENTIAL_PRESSURE             float64\n",
       "AVG_OIL_VOLUME                        float64\n",
       "AVG_WATER_VOLUME                      float64\n",
       "AVG_LIQUID_VOLUME                     float64\n",
       "rod_sinker_type                      category\n",
       "rod_has_guides                           bool\n",
       "rod_make                             category\n",
       "rod_apigrade                         category\n",
       "ROUTE                                   int64\n",
       "DESANDDEGAS_TYP                      category\n",
       "CHROME_LENGTH                         float64\n",
       "ENDURALLOY_LENGTH                     float64\n",
       "POLY_LENGTH                           float64\n",
       "NIPPLE_SET_DEPTH                      float64\n",
       "pump_bore                            category\n",
       "failure_start_to_complete_failure       int64\n",
       "lifetime                                int64\n",
       "dtype: object"
      ]
     },
     "execution_count": 872,
     "metadata": {},
     "output_type": "execute_result"
    }
   ],
   "source": [
    "# all data types are either floats, integers, datetimes, categoricals, timedeltas, or booleans\n",
    "df.dtypes"
   ]
  },
  {
   "cell_type": "code",
   "execution_count": 873,
   "metadata": {
    "colab": {
     "base_uri": "https://localhost:8080/",
     "height": 243
    },
    "id": "epGaNCJ2qRdf",
    "outputId": "86d4c7c4-8c00-41c7-bc5a-df999f80f4ca"
   },
   "outputs": [
    {
     "data": {
      "text/plain": [
       "0                Tubing\n",
       "1                Tubing\n",
       "2       Sucker Rod Pump\n",
       "3       Sucker Rod Pump\n",
       "6                Tubing\n",
       "             ...       \n",
       "2587             Tubing\n",
       "2588               Rods\n",
       "2593               Rods\n",
       "2594    Sucker Rod Pump\n",
       "2595             Tubing\n",
       "Name: FAILURETYPE, Length: 1604, dtype: category\n",
       "Categories (3, object): [Rods, Sucker Rod Pump, Tubing]"
      ]
     },
     "execution_count": 873,
     "metadata": {},
     "output_type": "execute_result"
    }
   ],
   "source": [
    "# types of failures\n",
    "df['FAILURETYPE']"
   ]
  },
  {
   "cell_type": "code",
   "execution_count": 874,
   "metadata": {
    "id": "Gy6LhnTNZFuE"
   },
   "outputs": [],
   "source": [
    "# Drop additional columns\n",
    "df.drop(['FAILURETYPE','bha_configuration', 'rod_has_guides', 'wellbore_category', 'manual_scale', 'packer_vs_tac', 'rod_make', 'rod_sinker_type', 'rod_apigrade', 'DESANDDEGAS_TYP', 'pump_bore', 'chemgroup1_any', 'chemgroup1_all', 'chemgroup2_any', 'chemgroup2_all', 'chemgroup3_any', 'chemgroup3_all'],  axis=1, inplace=True)"
   ]
  },
  {
   "cell_type": "code",
   "execution_count": 875,
   "metadata": {
    "colab": {
     "base_uri": "https://localhost:8080/",
     "height": 173
    },
    "id": "z9JYMkjDY0tG",
    "outputId": "86280bb5-7464-4757-a78c-28045f43cf15"
   },
   "outputs": [
    {
     "data": {
      "text/plain": [
       "Index(['lifetime_start', 'lifetime_end', 'FAILSTART', 'H2S_CONCENTRATION',\n",
       "       'PrimarySetpoint', 'SecondarySetpoint', 'StrokeLength',\n",
       "       'max_unguided_dls', 'dls_high_in_hole', 'gas_anchor_length',\n",
       "       'MAX_INCLINATION', 'AVG_PRESSURE_TUBING', 'AVG_PRESSURE_CASING',\n",
       "       'AVG_DIFFERENTIAL_PRESSURE', 'AVG_OIL_VOLUME', 'AVG_WATER_VOLUME',\n",
       "       'AVG_LIQUID_VOLUME', 'ROUTE', 'CHROME_LENGTH', 'ENDURALLOY_LENGTH',\n",
       "       'POLY_LENGTH', 'NIPPLE_SET_DEPTH', 'failure_start_to_complete_failure',\n",
       "       'lifetime'],\n",
       "      dtype='object')"
      ]
     },
     "execution_count": 875,
     "metadata": {},
     "output_type": "execute_result"
    }
   ],
   "source": [
    "df.columns"
   ]
  },
  {
   "cell_type": "code",
   "execution_count": 876,
   "metadata": {
    "colab": {
     "base_uri": "https://localhost:8080/",
     "height": 452
    },
    "id": "v4yzX3KybY5e",
    "outputId": "7fd37624-e468-4231-f921-0e1e271821c4"
   },
   "outputs": [
    {
     "data": {
      "text/plain": [
       "lifetime_start                         int64\n",
       "lifetime_end                           int64\n",
       "FAILSTART                              int64\n",
       "H2S_CONCENTRATION                    float64\n",
       "PrimarySetpoint                      float64\n",
       "SecondarySetpoint                    float64\n",
       "StrokeLength                         float64\n",
       "max_unguided_dls                     float64\n",
       "dls_high_in_hole                     float64\n",
       "gas_anchor_length                    float64\n",
       "MAX_INCLINATION                      float64\n",
       "AVG_PRESSURE_TUBING                  float64\n",
       "AVG_PRESSURE_CASING                  float64\n",
       "AVG_DIFFERENTIAL_PRESSURE            float64\n",
       "AVG_OIL_VOLUME                       float64\n",
       "AVG_WATER_VOLUME                     float64\n",
       "AVG_LIQUID_VOLUME                    float64\n",
       "ROUTE                                  int64\n",
       "CHROME_LENGTH                        float64\n",
       "ENDURALLOY_LENGTH                    float64\n",
       "POLY_LENGTH                          float64\n",
       "NIPPLE_SET_DEPTH                     float64\n",
       "failure_start_to_complete_failure      int64\n",
       "lifetime                               int64\n",
       "dtype: object"
      ]
     },
     "execution_count": 876,
     "metadata": {},
     "output_type": "execute_result"
    }
   ],
   "source": [
    "df.dtypes"
   ]
  },
  {
   "cell_type": "markdown",
   "metadata": {
    "id": "4T6TCekOjHAW"
   },
   "source": [
    "# ML Algorithms"
   ]
  },
  {
   "cell_type": "markdown",
   "metadata": {
    "id": "SZanTso6SujX"
   },
   "source": [
    "# DBSCAN"
   ]
  },
  {
   "cell_type": "code",
   "execution_count": 977,
   "metadata": {
    "colab": {
     "base_uri": "https://localhost:8080/",
     "height": 236
    },
    "id": "DdjrgiXpjLGH",
    "outputId": "0660acaa-9d51-4801-8ea4-962cac85c2e9"
   },
   "outputs": [
    {
     "data": {
      "text/plain": [
       "array([[-0.30910155,  0.81510403,  0.85962685, ...,  0.25605233,\n",
       "        -0.26364035,  3.0662344 ],\n",
       "       [ 0.89851571,  0.93479567,  0.96078409, ...,  0.59036182,\n",
       "        -0.10911778,  0.05282393],\n",
       "       [-1.15805559, -1.27994961, -1.25738448, ...,  0.85409839,\n",
       "        -0.29875912, -0.27196018],\n",
       "       ...,\n",
       "       [ 1.16088756,  0.81420409,  0.85233624, ..., -1.34619094,\n",
       "        -0.21447408, -0.99967195],\n",
       "       [-0.61829397, -1.00816859, -0.98034124, ..., -0.52516615,\n",
       "        -0.31280663, -1.02653379],\n",
       "       [-0.5714734 , -0.80568274, -0.77347014, ...,  0.47839669,\n",
       "        -0.32685413, -0.60651224]])"
      ]
     },
     "execution_count": 977,
     "metadata": {},
     "output_type": "execute_result"
    }
   ],
   "source": [
    "# Import packages for DBSCAN\n",
    "from sklearn.cluster import DBSCAN\n",
    "from sklearn.preprocessing import StandardScaler\n",
    "from collections import Counter\n",
    "\n",
    "\n",
    "# get rid of missing rows\n",
    "df = df.dropna(axis=1)\n",
    "\n",
    "# array\n",
    "df_dbscan = df.values.astype('int')\n",
    "\n",
    "# Normalize data\n",
    "scaler = StandardScaler().fit(df)\n",
    "df_dbscan = scaler.transform(df)\n",
    "\n",
    "# Normalized Numpy array\n",
    "df_dbscan"
   ]
  },
  {
   "cell_type": "code",
   "execution_count": 1020,
   "metadata": {},
   "outputs": [
    {
     "data": {
      "text/plain": [
       "DBSCAN(eps=5, leaf_size=90, metric='minkowski', min_samples=12, p=2)"
      ]
     },
     "execution_count": 1020,
     "metadata": {},
     "output_type": "execute_result"
    }
   ],
   "source": [
    "# construct DBSCAN model\n",
    "'''\n",
    "min_samples: minimum # of points in a neighborhood\n",
    "eps: radius of neighborhood\n",
    "'''\n",
    "\n",
    "model = DBSCAN(eps = 5, min_samples = 12, metric = 'minkowski', leaf_size = 90, p =2).\\\n",
    "    fit(df_dbscan)\n",
    "model"
   ]
  },
  {
   "cell_type": "code",
   "execution_count": 1021,
   "metadata": {},
   "outputs": [],
   "source": [
    "# seperate outliers from clustered data\n",
    "outliers_df = df[model.labels_ == -1]\n",
    "clusters_df = df[model.labels_ != -1]"
   ]
  },
  {
   "cell_type": "code",
   "execution_count": 1022,
   "metadata": {},
   "outputs": [
    {
     "data": {
      "text/plain": [
       "array([0, 0, 0, ..., 0, 0, 0], dtype=int64)"
      ]
     },
     "execution_count": 1022,
     "metadata": {},
     "output_type": "execute_result"
    }
   ],
   "source": [
    "model.labels_"
   ]
  },
  {
   "cell_type": "code",
   "execution_count": 1023,
   "metadata": {},
   "outputs": [
    {
     "name": "stdout",
     "output_type": "stream",
     "text": [
      "Counter({0: 1532, -1: 72})\n",
      "     lifetime_start  lifetime_end  FAILSTART  H2S_CONCENTRATION  \\\n",
      "7            735394        735582     734928                0.0   \n",
      "35           736422        737399     736356                0.0   \n",
      "89           736492        736788     736757                0.0   \n",
      "204          737126        737448     737377                0.0   \n",
      "289          736245        737425     736217                0.0   \n",
      "\n",
      "     PrimarySetpoint  SecondarySetpoint  StrokeLength  max_unguided_dls  \\\n",
      "7               75.0               60.0    144.000000         92.340000   \n",
      "35              85.0               60.0    169.429993          4.821477   \n",
      "89              75.0               60.0    144.039993          2.333374   \n",
      "204             75.0               60.0    144.039993          1.580000   \n",
      "289             75.0               60.0    144.000000          3.618683   \n",
      "\n",
      "     dls_high_in_hole  gas_anchor_length  ...  AVG_OIL_VOLUME  \\\n",
      "7           92.340000              37.21  ...       22.812553   \n",
      "35           4.282894              19.26  ...       80.460123   \n",
      "89           1.535735              17.05  ...       93.084639   \n",
      "204         10.170000              17.15  ...       46.148725   \n",
      "289          3.141346              17.15  ...       52.562688   \n",
      "\n",
      "     AVG_WATER_VOLUME  AVG_LIQUID_VOLUME  ROUTE  CHROME_LENGTH  \\\n",
      "7           21.484840          44.297394    873           0.00   \n",
      "35          26.444561         106.904684    882           0.00   \n",
      "89          65.043887         158.128527    882        1012.28   \n",
      "204         69.286522         115.435246    872           0.00   \n",
      "289         23.237955          75.800643    871           0.00   \n",
      "\n",
      "     ENDURALLOY_LENGTH  POLY_LENGTH  NIPPLE_SET_DEPTH  \\\n",
      "7                  0.0         0.00            9714.3   \n",
      "35               321.5         0.00            8996.1   \n",
      "89                 0.0         0.00            9027.0   \n",
      "204                0.0      2495.69           10123.6   \n",
      "289              416.0         0.00           10210.6   \n",
      "\n",
      "     failure_start_to_complete_failure  lifetime  \n",
      "7                                  654       188  \n",
      "35                                1043       977  \n",
      "89                                  31       296  \n",
      "204                                 71       322  \n",
      "289                               1208      1180  \n",
      "\n",
      "[5 rows x 24 columns]\n",
      "number of clusters = 1\n"
     ]
    }
   ],
   "source": [
    "colors = model.labels_\n",
    "colors_clusters = colors[colors != -1]\n",
    "colors_outliers = 'red'\n",
    "\n",
    "# get info about the clusters\n",
    "clusters = Counter(model.labels_)\n",
    "print(clusters)\n",
    "print(df[model.labels_ == -1].head())\n",
    "print('number of clusters = {}'.format(len(clusters)-1))"
   ]
  },
  {
   "cell_type": "code",
   "execution_count": 1024,
   "metadata": {},
   "outputs": [
    {
     "data": {
      "image/png": "[encoded data removed]",
      "text/plain": [
       "<Figure size 1008x432 with 1 Axes>"
      ]
     },
     "metadata": {
      "needs_background": "light"
     },
     "output_type": "display_data"
    }
   ],
   "source": [
    "fig = plt.figure()\n",
    "ax = fig.add_axes([.1, .1, 1, 1])\n",
    "ax.scatter(clusters_df['lifetime'], clusters_df['failure_start_to_complete_failure'],\n",
    "          c = colors_clusters, edgecolors = 'black', s =50)\n",
    "\n",
    "ax.scatter(outliers_df['lifetime'], outliers_df['failure_start_to_complete_failure'],\n",
    "          c = colors_outliers, edgecolors = 'black', s =50)\n",
    "\n",
    "ax.set_xlabel('failtime from failstart', family = 'Arial', fontsize = 9)\n",
    "ax.set_ylabel('lifetime', family = 'Arial', fontsize = 9)\n",
    "\n",
    "plt.title('Clustered rod pump lifetime by DBSCAN algorithm', family = 'Arial', fontsize = 12)\n",
    "\n",
    "plt.grid(which = 'major', color = '#cccccc', alpha = 0.45)\n",
    "\n",
    "plt.show()"
   ]
  }
 ],
 "metadata": {
  "colab": {
   "collapsed_sections": [],
   "name": "Rodpump4.ipynb",
   "provenance": []
  },
  "kernelspec": {
   "display_name": "Python 3",
   "language": "python",
   "name": "python3"
  },
  "language_info": {
   "codemirror_mode": {
    "name": "ipython",
    "version": 3
   },
   "file_extension": ".py",
   "mimetype": "text/x-python",
   "name": "python",
   "nbconvert_exporter": "python",
   "pygments_lexer": "ipython3",
   "version": "3.8.3"
  }
 },
 "nbformat": 4,
 "nbformat_minor": 4
}
